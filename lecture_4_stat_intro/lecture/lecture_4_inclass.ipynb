{
  "nbformat": 4,
  "nbformat_minor": 0,
  "metadata": {
    "colab": {
      "provenance": [],
      "collapsed_sections": [],
      "authorship_tag": "ABX9TyPvGjHect4k3kP3F0FMZ+bA",
      "include_colab_link": true
    },
    "kernelspec": {
      "name": "python3",
      "display_name": "Python 3"
    },
    "language_info": {
      "name": "python"
    }
  },
  "cells": [
    {
      "cell_type": "markdown",
      "metadata": {
        "id": "view-in-github",
        "colab_type": "text"
      },
      "source": [
        "<a href=\"https://colab.research.google.com/github/danon6868/BI-stat-course/blob/main/lecture_4_stat_intro/lecture/lecture_4_inclass.ipynb\" target=\"_parent\"><img src=\"https://colab.research.google.com/assets/colab-badge.svg\" alt=\"Open In Colab\"/></a>"
      ]
    },
    {
      "cell_type": "code",
      "execution_count": null,
      "metadata": {
        "id": "1kLckPk2VKCQ"
      },
      "outputs": [],
      "source": []
    },
    {
      "cell_type": "markdown",
      "source": [
        "## [How to use R in Colab?](https://towardsdatascience.com/how-to-use-r-in-google-colab-b6e02d736497)"
      ],
      "metadata": {
        "id": "kfAgEC07unJ5"
      }
    },
    {
      "cell_type": "code",
      "source": [
        "%load_ext rpy2.ipython"
      ],
      "metadata": {
        "id": "g09c4YJFurYl"
      },
      "execution_count": null,
      "outputs": []
    },
    {
      "cell_type": "code",
      "source": [
        "%%bash\n",
        "ls\n",
        "\n",
        "pwd"
      ],
      "metadata": {
        "colab": {
          "base_uri": "https://localhost:8080/"
        },
        "id": "9FMcOh_U6pEQ",
        "outputId": "905c8836-eeec-4628-8142-19675a3a51a6"
      },
      "execution_count": null,
      "outputs": [
        {
          "output_type": "stream",
          "name": "stdout",
          "text": [
            "sample_data\n",
            "/content\n"
          ]
        }
      ]
    },
    {
      "cell_type": "code",
      "source": [
        "%%R\n",
        "x <- seq(0, 2*pi, length.out=50)\n",
        "x"
      ],
      "metadata": {
        "colab": {
          "base_uri": "https://localhost:8080/"
        },
        "id": "j5FQb36iuvTJ",
        "outputId": "306e5a9b-19c2-4638-de34-48db9285510f"
      },
      "execution_count": null,
      "outputs": [
        {
          "output_type": "stream",
          "name": "stdout",
          "text": [
            " [1] 0.0000000 0.1282283 0.2564565 0.3846848 0.5129131 0.6411414 0.7693696\n",
            " [8] 0.8975979 1.0258262 1.1540544 1.2822827 1.4105110 1.5387393 1.6669675\n",
            "[15] 1.7951958 1.9234241 2.0516523 2.1798806 2.3081089 2.4363372 2.5645654\n",
            "[22] 2.6927937 2.8210220 2.9492502 3.0774785 3.2057068 3.3339351 3.4621633\n",
            "[29] 3.5903916 3.7186199 3.8468481 3.9750764 4.1033047 4.2315330 4.3597612\n",
            "[36] 4.4879895 4.6162178 4.7444460 4.8726743 5.0009026 5.1291309 5.2573591\n",
            "[43] 5.3855874 5.5138157 5.6420439 5.7702722 5.8985005 6.0267288 6.1549570\n",
            "[50] 6.2831853\n"
          ]
        }
      ]
    },
    {
      "cell_type": "code",
      "source": [
        "x = %R x\n",
        "x"
      ],
      "metadata": {
        "colab": {
          "base_uri": "https://localhost:8080/"
        },
        "id": "uSsYvk3gu-IB",
        "outputId": "178cddf4-b12c-4698-b85b-4328bb5e9e79"
      },
      "execution_count": null,
      "outputs": [
        {
          "output_type": "execute_result",
          "data": {
            "text/plain": [
              "array([0.        , 0.12822827, 0.25645654, 0.38468481, 0.51291309,\n",
              "       0.64114136, 0.76936963, 0.8975979 , 1.02582617, 1.15405444,\n",
              "       1.28228272, 1.41051099, 1.53873926, 1.66696753, 1.7951958 ,\n",
              "       1.92342407, 2.05165235, 2.17988062, 2.30810889, 2.43633716,\n",
              "       2.56456543, 2.6927937 , 2.82102197, 2.94925025, 3.07747852,\n",
              "       3.20570679, 3.33393506, 3.46216333, 3.5903916 , 3.71861988,\n",
              "       3.84684815, 3.97507642, 4.10330469, 4.23153296, 4.35976123,\n",
              "       4.48798951, 4.61621778, 4.74444605, 4.87267432, 5.00090259,\n",
              "       5.12913086, 5.25735913, 5.38558741, 5.51381568, 5.64204395,\n",
              "       5.77027222, 5.89850049, 6.02672876, 6.15495704, 6.28318531])"
            ]
          },
          "metadata": {},
          "execution_count": 9
        }
      ]
    },
    {
      "cell_type": "code",
      "source": [],
      "metadata": {
        "id": "AKdraolKVaFL"
      },
      "execution_count": null,
      "outputs": []
    },
    {
      "cell_type": "markdown",
      "source": [
        "## Central limit theorem\n",
        "\n",
        "\n",
        "We will visualize CLT using `Python`, and at home you will practice doing it in `R`."
      ],
      "metadata": {
        "id": "f0f6436T4Psh"
      }
    },
    {
      "cell_type": "code",
      "source": [
        "import numpy as np # library for working with vectors like with `c` in R\n",
        "import seaborn as sns # library for visualization\n",
        "import matplotlib.pyplot as plt # library for visualization (basic)"
      ],
      "metadata": {
        "id": "n0e6uNj6vEzz"
      },
      "execution_count": null,
      "outputs": []
    },
    {
      "cell_type": "code",
      "source": [
        "# Some settings\n",
        "plt.rcParams[\"figure.figsize\"] = (10, 7)\n",
        "plt.rcParams[\"font.size\"] = 15\n",
        "\n",
        "# Set seed for reproducibility\n",
        "np.random.seed(101)"
      ],
      "metadata": {
        "id": "EBV4HLgs4Och"
      },
      "execution_count": null,
      "outputs": []
    },
    {
      "cell_type": "code",
      "source": [
        "sample_size = 1000\n",
        "sample = np.random.chisquare(2, size=sample_size) # 2 is a mean\n",
        "\n",
        "sns.histplot(sample, stat=\"density\");"
      ],
      "metadata": {
        "id": "lKpNDdexVbAB",
        "colab": {
          "base_uri": "https://localhost:8080/",
          "height": 433
        },
        "outputId": "265f4bc4-0a26-43c1-8c9e-686e0448a311"
      },
      "execution_count": null,
      "outputs": [
        {
          "output_type": "display_data",
          "data": {
            "text/plain": [
              "<Figure size 720x504 with 1 Axes>"
            ],
            "image/png": "[encoded data removed]"
          },
          "metadata": {
            "needs_background": "light"
          }
        }
      ]
    },
    {
      "cell_type": "markdown",
      "source": [
        "Extract 1000 samples, calculate the sample mean and append the result in `samples_mean`:"
      ],
      "metadata": {
        "id": "gB6ura_57m7M"
      }
    },
    {
      "cell_type": "code",
      "source": [
        "num_of_samples = 100\n",
        "samples_mean = []\n",
        "for i in range(num_of_samples):\n",
        "    sample = np.random.chisquare(2, size=sample_size)\n",
        "    samples_mean.append(np.mean(sample))"
      ],
      "metadata": {
        "id": "gHdAIL-ykYP0"
      },
      "execution_count": null,
      "outputs": []
    },
    {
      "cell_type": "code",
      "source": [
        "sns.histplot(samples_mean, stat=\"density\");"
      ],
      "metadata": {
        "colab": {
          "base_uri": "https://localhost:8080/",
          "height": 433
        },
        "id": "O8bH7Pa89nFi",
        "outputId": "ecb99a8b-a5b3-42b5-bdfe-ffd1da9d4925"
      },
      "execution_count": null,
      "outputs": [
        {
          "output_type": "display_data",
          "data": {
            "text/plain": [
              "<Figure size 720x504 with 1 Axes>"
            ],
            "image/png": "[encoded data removed]"
          },
          "metadata": {
            "needs_background": "light"
          }
        }
      ]
    },
    {
      "cell_type": "code",
      "source": [
        "np.mean(samples_mean)"
      ],
      "metadata": {
        "colab": {
          "base_uri": "https://localhost:8080/"
        },
        "id": "eDWPaq_F9tuj",
        "outputId": "3abfc857-f51f-4669-ab61-dbe423082522"
      },
      "execution_count": null,
      "outputs": [
        {
          "output_type": "execute_result",
          "data": {
            "text/plain": [
              "1.9890415374375894"
            ]
          },
          "metadata": {},
          "execution_count": 24
        }
      ]
    },
    {
      "cell_type": "code",
      "source": [],
      "metadata": {
        "id": "wF8r0Mil972T"
      },
      "execution_count": null,
      "outputs": []
    },
    {
      "cell_type": "markdown",
      "source": [
        "## Standard error of the mean\n",
        "\n",
        "\n",
        "$se = \\frac{\\sigma}{\\sqrt{n}}$"
      ],
      "metadata": {
        "id": "3_eAx_v29sYC"
      }
    },
    {
      "cell_type": "code",
      "source": [
        "np.std(samples_mean)"
      ],
      "metadata": {
        "id": "moQraD0AVbhg",
        "colab": {
          "base_uri": "https://localhost:8080/"
        },
        "outputId": "49fd5235-7e6d-4751-82ad-e647fe937f2f"
      },
      "execution_count": null,
      "outputs": [
        {
          "output_type": "execute_result",
          "data": {
            "text/plain": [
              "0.06819886543333863"
            ]
          },
          "metadata": {},
          "execution_count": 26
        }
      ]
    },
    {
      "cell_type": "code",
      "source": [
        "np.std(sample) / np.sqrt(sample_size)"
      ],
      "metadata": {
        "colab": {
          "base_uri": "https://localhost:8080/"
        },
        "id": "WFEMv_0iCrDT",
        "outputId": "1b28098b-d9c0-4573-bd0a-59e504b7bc1d"
      },
      "execution_count": null,
      "outputs": [
        {
          "output_type": "execute_result",
          "data": {
            "text/plain": [
              "0.06559626265107404"
            ]
          },
          "metadata": {},
          "execution_count": 27
        }
      ]
    },
    {
      "cell_type": "code",
      "source": [],
      "metadata": {
        "id": "TjWWq0AMCrio"
      },
      "execution_count": null,
      "outputs": []
    },
    {
      "cell_type": "markdown",
      "source": [
        "## Confidence interval"
      ],
      "metadata": {
        "id": "X2nCe5cSNAJ-"
      }
    },
    {
      "cell_type": "code",
      "source": [
        "# Generate population\n",
        "population = np.random.normal(180, 20, size=100000)"
      ],
      "metadata": {
        "id": "B0KrX3hu8Y3n"
      },
      "execution_count": null,
      "outputs": []
    },
    {
      "cell_type": "code",
      "source": [
        "sns.histplot(population, stat=\"density\")"
      ],
      "metadata": {
        "id": "7b7G60QuVcmo",
        "colab": {
          "base_uri": "https://localhost:8080/",
          "height": 450
        },
        "outputId": "7c8cc045-8ba6-4233-997a-01ccdf6dc9e0"
      },
      "execution_count": null,
      "outputs": [
        {
          "output_type": "execute_result",
          "data": {
            "text/plain": [
              "<matplotlib.axes._subplots.AxesSubplot at 0x7feb43428250>"
            ]
          },
          "metadata": {},
          "execution_count": 29
        },
        {
          "output_type": "display_data",
          "data": {
            "text/plain": [
              "<Figure size 720x504 with 1 Axes>"
            ],
            "image/png": "[encoded data removed]"
          },
          "metadata": {
            "needs_background": "light"
          }
        }
      ]
    },
    {
      "cell_type": "code",
      "source": [
        "mu = np.mean(population)\n",
        "std = np.std(population)"
      ],
      "metadata": {
        "id": "GFAylA41DIJa"
      },
      "execution_count": null,
      "outputs": []
    },
    {
      "cell_type": "code",
      "source": [
        "num_of_samples = 1000\n",
        "samples_mean = []\n",
        "for i in range(num_of_samples):\n",
        "    sample = np.random.choice(population, size=sample_size)\n",
        "    samples_mean.append(np.mean(sample))"
      ],
      "metadata": {
        "id": "y4_xE8-wDTmC"
      },
      "execution_count": null,
      "outputs": []
    },
    {
      "cell_type": "code",
      "source": [
        "sns.histplot(samples_mean, stat=\"density\")"
      ],
      "metadata": {
        "colab": {
          "base_uri": "https://localhost:8080/",
          "height": 450
        },
        "id": "H3iLRsCsDjIy",
        "outputId": "b065ae4d-e56e-4042-ba15-92111eb7933d"
      },
      "execution_count": null,
      "outputs": [
        {
          "output_type": "execute_result",
          "data": {
            "text/plain": [
              "<matplotlib.axes._subplots.AxesSubplot at 0x7feb431af7d0>"
            ]
          },
          "metadata": {},
          "execution_count": 37
        },
        {
          "output_type": "display_data",
          "data": {
            "text/plain": [
              "<Figure size 720x504 with 1 Axes>"
            ],
            "image/png": "[encoded data removed]"
          },
          "metadata": {
            "needs_background": "light"
          }
        }
      ]
    },
    {
      "cell_type": "code",
      "source": [
        "se = std / np.sqrt(sample_size)\n",
        "se"
      ],
      "metadata": {
        "colab": {
          "base_uri": "https://localhost:8080/"
        },
        "id": "360yKxtJECUh",
        "outputId": "6b24e4a0-7104-48fe-96a5-d7290ff3b952"
      },
      "execution_count": null,
      "outputs": [
        {
          "output_type": "execute_result",
          "data": {
            "text/plain": [
              "0.6326406788235067"
            ]
          },
          "metadata": {},
          "execution_count": 39
        }
      ]
    },
    {
      "cell_type": "code",
      "source": [
        "mean_mean = np.mean(samples_mean)\n",
        "left_b = mean_mean - 1.96 * se\n",
        "right_b = mean_mean + 1.96 * se\n",
        "\n",
        "left_b, right_b"
      ],
      "metadata": {
        "colab": {
          "base_uri": "https://localhost:8080/"
        },
        "id": "zM8uRYhZEKjg",
        "outputId": "0ffcc7d9-9131-4723-e46d-4e590df20629"
      },
      "execution_count": null,
      "outputs": [
        {
          "output_type": "execute_result",
          "data": {
            "text/plain": [
              "(178.75974713072904, 181.2396985917172)"
            ]
          },
          "metadata": {},
          "execution_count": 40
        }
      ]
    },
    {
      "cell_type": "code",
      "source": [
        "mu"
      ],
      "metadata": {
        "colab": {
          "base_uri": "https://localhost:8080/"
        },
        "id": "ESVhFkjiEKxo",
        "outputId": "14345190-cebd-4fd6-bc21-8a774c5caa8a"
      },
      "execution_count": null,
      "outputs": [
        {
          "output_type": "execute_result",
          "data": {
            "text/plain": [
              "180.01902684300234"
            ]
          },
          "metadata": {},
          "execution_count": 41
        }
      ]
    },
    {
      "cell_type": "markdown",
      "source": [
        "We can check the effect of sample size on the CI:"
      ],
      "metadata": {
        "id": "cAtNBBwLOfYx"
      }
    },
    {
      "cell_type": "code",
      "source": [],
      "metadata": {
        "id": "ZtYoFcfnVdB1"
      },
      "execution_count": null,
      "outputs": []
    },
    {
      "cell_type": "code",
      "source": [],
      "metadata": {
        "id": "gDmIdIuTD-Jg"
      },
      "execution_count": null,
      "outputs": []
    },
    {
      "cell_type": "code",
      "source": [],
      "metadata": {
        "id": "-w5-2BnzD9CN"
      },
      "execution_count": null,
      "outputs": []
    },
    {
      "cell_type": "markdown",
      "source": [
        "## Calculate CI fairly"
      ],
      "metadata": {
        "id": "OSdwZIzuO9L0"
      }
    },
    {
      "cell_type": "code",
      "source": [],
      "metadata": {
        "id": "tJUIRyZPVdev"
      },
      "execution_count": null,
      "outputs": []
    },
    {
      "cell_type": "code",
      "source": [],
      "metadata": {
        "id": "mhoc0IgdErQh"
      },
      "execution_count": null,
      "outputs": []
    },
    {
      "cell_type": "code",
      "source": [],
      "metadata": {
        "id": "_FxKPkVwErmZ"
      },
      "execution_count": null,
      "outputs": []
    },
    {
      "cell_type": "markdown",
      "source": [
        "## What does it mean, 95% CI?"
      ],
      "metadata": {
        "id": "tFu0K_TVPo2x"
      }
    },
    {
      "cell_type": "code",
      "source": [
        "def calculate_ci(sample, std=None):\n",
        "    if std is None:\n",
        "        std = sample.std()\n",
        "    \n",
        "    mean = sample.mean()\n",
        "    se = std / np.sqrt(len(sample))\n",
        "    left_b = mean - 1.96 * se\n",
        "    right_b = mean + 1.96 * se\n",
        "\n",
        "    return left_b, right_b"
      ],
      "metadata": {
        "id": "ZcSw3JVTVeKt"
      },
      "execution_count": null,
      "outputs": []
    },
    {
      "cell_type": "code",
      "source": [
        "# Known sigma\n",
        "sample_size = 1000\n",
        "outcomes = []\n",
        "\n",
        "for i in range(1000):\n",
        "    sample = np.random.choice(population, size=sample_size)\n",
        "    left_b, right_b = calculate_ci(sample, std=std)\n",
        "\n",
        "    outcomes.append((left_b < mu) & (mu < right_b))\n",
        "\n",
        "print(np.mean(outcomes))"
      ],
      "metadata": {
        "colab": {
          "base_uri": "https://localhost:8080/"
        },
        "id": "MiPppKXREujz",
        "outputId": "f35de57e-8494-442e-fce2-56aee4eb657e"
      },
      "execution_count": null,
      "outputs": [
        {
          "output_type": "stream",
          "name": "stdout",
          "text": [
            "0.957\n"
          ]
        }
      ]
    },
    {
      "cell_type": "code",
      "source": [
        "# Unknown sigma\n",
        "sample_size = 1000\n",
        "outcomes = []\n",
        "\n",
        "for i in range(1000):\n",
        "    sample = np.random.choice(population, size=sample_size)\n",
        "    left_b, right_b = calculate_ci(sample)\n",
        "\n",
        "    outcomes.append((left_b < mu) & (mu < right_b))\n",
        "\n",
        "print(np.mean(outcomes))"
      ],
      "metadata": {
        "colab": {
          "base_uri": "https://localhost:8080/"
        },
        "id": "Y0b_tCEREuxK",
        "outputId": "d614fc31-ef84-4144-ac56-5886a9cdc96a"
      },
      "execution_count": null,
      "outputs": [
        {
          "output_type": "stream",
          "name": "stdout",
          "text": [
            "0.93\n"
          ]
        }
      ]
    },
    {
      "cell_type": "code",
      "source": [],
      "metadata": {
        "id": "7UrE1AVKFQ9_"
      },
      "execution_count": null,
      "outputs": []
    }
  ]
}